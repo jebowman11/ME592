{
 "cells": [
  {
   "cell_type": "code",
   "execution_count": 1,
   "id": "a29cb133-006f-460c-a1d7-1581d3fbce5a",
   "metadata": {},
   "outputs": [
    {
     "data": {
      "text/html": [
       "<div>\n",
       "<style scoped>\n",
       "    .dataframe tbody tr th:only-of-type {\n",
       "        vertical-align: middle;\n",
       "    }\n",
       "\n",
       "    .dataframe tbody tr th {\n",
       "        vertical-align: top;\n",
       "    }\n",
       "\n",
       "    .dataframe thead th {\n",
       "        text-align: right;\n",
       "    }\n",
       "</style>\n",
       "<table border=\"1\" class=\"dataframe\">\n",
       "  <thead>\n",
       "    <tr style=\"text-align: right;\">\n",
       "      <th></th>\n",
       "      <th>Freq</th>\n",
       "      <th>AoA</th>\n",
       "      <th>Chord-len</th>\n",
       "      <th>Fsv</th>\n",
       "      <th>SSDT</th>\n",
       "      <th>Sound</th>\n",
       "    </tr>\n",
       "  </thead>\n",
       "  <tbody>\n",
       "    <tr>\n",
       "      <th>0</th>\n",
       "      <td>1000</td>\n",
       "      <td>0.0</td>\n",
       "      <td>0.3048</td>\n",
       "      <td>71.3</td>\n",
       "      <td>0.002663</td>\n",
       "      <td>125.201</td>\n",
       "    </tr>\n",
       "    <tr>\n",
       "      <th>1</th>\n",
       "      <td>1250</td>\n",
       "      <td>0.0</td>\n",
       "      <td>0.3048</td>\n",
       "      <td>71.3</td>\n",
       "      <td>0.002663</td>\n",
       "      <td>125.951</td>\n",
       "    </tr>\n",
       "    <tr>\n",
       "      <th>2</th>\n",
       "      <td>1600</td>\n",
       "      <td>0.0</td>\n",
       "      <td>0.3048</td>\n",
       "      <td>71.3</td>\n",
       "      <td>0.002663</td>\n",
       "      <td>127.591</td>\n",
       "    </tr>\n",
       "    <tr>\n",
       "      <th>3</th>\n",
       "      <td>2000</td>\n",
       "      <td>0.0</td>\n",
       "      <td>0.3048</td>\n",
       "      <td>71.3</td>\n",
       "      <td>0.002663</td>\n",
       "      <td>127.461</td>\n",
       "    </tr>\n",
       "    <tr>\n",
       "      <th>4</th>\n",
       "      <td>2500</td>\n",
       "      <td>0.0</td>\n",
       "      <td>0.3048</td>\n",
       "      <td>71.3</td>\n",
       "      <td>0.002663</td>\n",
       "      <td>125.571</td>\n",
       "    </tr>\n",
       "    <tr>\n",
       "      <th>...</th>\n",
       "      <td>...</td>\n",
       "      <td>...</td>\n",
       "      <td>...</td>\n",
       "      <td>...</td>\n",
       "      <td>...</td>\n",
       "      <td>...</td>\n",
       "    </tr>\n",
       "    <tr>\n",
       "      <th>1497</th>\n",
       "      <td>2500</td>\n",
       "      <td>15.6</td>\n",
       "      <td>0.1016</td>\n",
       "      <td>39.6</td>\n",
       "      <td>0.052849</td>\n",
       "      <td>110.264</td>\n",
       "    </tr>\n",
       "    <tr>\n",
       "      <th>1498</th>\n",
       "      <td>3150</td>\n",
       "      <td>15.6</td>\n",
       "      <td>0.1016</td>\n",
       "      <td>39.6</td>\n",
       "      <td>0.052849</td>\n",
       "      <td>109.254</td>\n",
       "    </tr>\n",
       "    <tr>\n",
       "      <th>1499</th>\n",
       "      <td>4000</td>\n",
       "      <td>15.6</td>\n",
       "      <td>0.1016</td>\n",
       "      <td>39.6</td>\n",
       "      <td>0.052849</td>\n",
       "      <td>106.604</td>\n",
       "    </tr>\n",
       "    <tr>\n",
       "      <th>1500</th>\n",
       "      <td>5000</td>\n",
       "      <td>15.6</td>\n",
       "      <td>0.1016</td>\n",
       "      <td>39.6</td>\n",
       "      <td>0.052849</td>\n",
       "      <td>106.224</td>\n",
       "    </tr>\n",
       "    <tr>\n",
       "      <th>1501</th>\n",
       "      <td>6300</td>\n",
       "      <td>15.6</td>\n",
       "      <td>0.1016</td>\n",
       "      <td>39.6</td>\n",
       "      <td>0.052849</td>\n",
       "      <td>104.204</td>\n",
       "    </tr>\n",
       "  </tbody>\n",
       "</table>\n",
       "<p>1502 rows × 6 columns</p>\n",
       "</div>"
      ],
      "text/plain": [
       "      Freq   AoA  Chord-len   Fsv      SSDT    Sound\n",
       "0     1000   0.0     0.3048  71.3  0.002663  125.201\n",
       "1     1250   0.0     0.3048  71.3  0.002663  125.951\n",
       "2     1600   0.0     0.3048  71.3  0.002663  127.591\n",
       "3     2000   0.0     0.3048  71.3  0.002663  127.461\n",
       "4     2500   0.0     0.3048  71.3  0.002663  125.571\n",
       "...    ...   ...        ...   ...       ...      ...\n",
       "1497  2500  15.6     0.1016  39.6  0.052849  110.264\n",
       "1498  3150  15.6     0.1016  39.6  0.052849  109.254\n",
       "1499  4000  15.6     0.1016  39.6  0.052849  106.604\n",
       "1500  5000  15.6     0.1016  39.6  0.052849  106.224\n",
       "1501  6300  15.6     0.1016  39.6  0.052849  104.204\n",
       "\n",
       "[1502 rows x 6 columns]"
      ]
     },
     "execution_count": 1,
     "metadata": {},
     "output_type": "execute_result"
    }
   ],
   "source": [
    "\n",
    "import pandas as pd\n",
    "dataFile=('airfoil_self_noise.dat')\n",
    "airfoilData = pd.read_table(dataFile,header=0,names=['Freq','AoA','Chord-len','Fsv','SSDT','Sound'],index_col=False)\n",
    "\n",
    "airfoilData"
   ]
  },
  {
   "cell_type": "code",
   "execution_count": 2,
   "id": "f3e77e33-34c2-41dd-814a-e4ab3b29429a",
   "metadata": {},
   "outputs": [
    {
     "data": {
      "text/plain": [
       "Freq         2887.769640\n",
       "AoA             6.786818\n",
       "Chord-len       0.136436\n",
       "Fsv            50.847137\n",
       "SSDT            0.011146\n",
       "Sound         124.835034\n",
       "dtype: float64"
      ]
     },
     "execution_count": 2,
     "metadata": {},
     "output_type": "execute_result"
    }
   ],
   "source": [
    "#Task 1\n",
    "airfoilData.mean()"
   ]
  },
  {
   "cell_type": "code",
   "execution_count": 3,
   "id": "39288c2c-bff8-4aaf-ae4c-2db54ed5afed",
   "metadata": {},
   "outputs": [
    {
     "data": {
      "text/plain": [
       "Freq         9.942437e+06\n",
       "AoA          3.501691e+01\n",
       "Chord-len    8.736825e-03\n",
       "Fsv          2.423947e+02\n",
       "SSDT         1.729960e-04\n",
       "Sound        4.762193e+01\n",
       "dtype: float64"
      ]
     },
     "execution_count": 3,
     "metadata": {},
     "output_type": "execute_result"
    }
   ],
   "source": [
    "#Task 2\n",
    "airfoilData.var()"
   ]
  },
  {
   "cell_type": "code",
   "execution_count": 4,
   "id": "0aba9a11-5f47-4615-9d00-593f426ffc19",
   "metadata": {},
   "outputs": [
    {
     "data": {
      "text/plain": [
       "Freq         1600.000000\n",
       "AoA             5.400000\n",
       "Chord-len       0.101600\n",
       "Fsv            39.600000\n",
       "SSDT            0.004957\n",
       "Sound         125.719000\n",
       "dtype: float64"
      ]
     },
     "execution_count": 4,
     "metadata": {},
     "output_type": "execute_result"
    }
   ],
   "source": [
    "#Task 3\n",
    "airfoilData.median()"
   ]
  },
  {
   "cell_type": "code",
   "execution_count": 5,
   "id": "fc4cee8a-5fa2-4f3e-936d-69c8449a3205",
   "metadata": {},
   "outputs": [
    {
     "data": {
      "text/plain": [
       "Freq         5.704083\n",
       "AoA         -0.413399\n",
       "Chord-len   -1.035595\n",
       "Fsv         -1.562758\n",
       "SSDT         2.215282\n",
       "Sound       -0.316058\n",
       "dtype: float64"
      ]
     },
     "execution_count": 5,
     "metadata": {},
     "output_type": "execute_result"
    }
   ],
   "source": [
    "\n",
    "#Task 4\n",
    "airfoilData.kurtosis()"
   ]
  },
  {
   "cell_type": "code",
   "execution_count": 6,
   "id": "a966a1dc-c232-4b55-8c5a-bdc9ccf56cd1",
   "metadata": {},
   "outputs": [
    {
     "data": {
      "text/plain": [
       "Freq         2.136180\n",
       "AoA          0.688553\n",
       "Chord-len    0.458497\n",
       "Fsv          0.237297\n",
       "SSDT         1.701196\n",
       "Sound       -0.418439\n",
       "dtype: float64"
      ]
     },
     "execution_count": 6,
     "metadata": {},
     "output_type": "execute_result"
    }
   ],
   "source": [
    "#Task 5\n",
    "airfoilData.skew()"
   ]
  },
  {
   "cell_type": "code",
   "execution_count": 7,
   "id": "198bbb6e-d299-445b-b568-6e2aaae3e5e6",
   "metadata": {},
   "outputs": [
    {
     "data": {
      "text/plain": [
       "Freq         19800.000000\n",
       "AoA             22.200000\n",
       "Chord-len        0.279400\n",
       "Fsv             39.600000\n",
       "SSDT             0.058011\n",
       "Sound           37.607000\n",
       "dtype: float64"
      ]
     },
     "execution_count": 7,
     "metadata": {},
     "output_type": "execute_result"
    }
   ],
   "source": [
    "#Task 6\n",
    "import numpy as np\n",
    "airfoilData.apply(np.ptp)"
   ]
  },
  {
   "cell_type": "code",
   "execution_count": null,
   "id": "a060d780-dbec-44d3-a473-1a365bf3e015",
   "metadata": {},
   "outputs": [],
   "source": []
  }
 ],
 "metadata": {
  "kernelspec": {
   "display_name": "me592",
   "language": "python",
   "name": "me592"
  },
  "language_info": {
   "codemirror_mode": {
    "name": "ipython",
    "version": 3
   },
   "file_extension": ".py",
   "mimetype": "text/x-python",
   "name": "python",
   "nbconvert_exporter": "python",
   "pygments_lexer": "ipython3",
   "version": "3.8.13"
  }
 },
 "nbformat": 4,
 "nbformat_minor": 5
}
